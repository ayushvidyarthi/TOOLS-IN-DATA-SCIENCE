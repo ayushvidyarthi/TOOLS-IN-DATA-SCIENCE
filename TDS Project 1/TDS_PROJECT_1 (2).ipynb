{
 "cells": [
  {
   "cell_type": "code",
   "execution_count": 1,
   "id": "5b8aa3b0",
   "metadata": {},
   "outputs": [],
   "source": [
    "from bs4 import BeautifulSoup\n",
    "import requests"
   ]
  },
  {
   "cell_type": "code",
   "execution_count": 2,
   "id": "8ccdae43",
   "metadata": {},
   "outputs": [],
   "source": [
    "import openpyxl\n",
    "excel=openpyxl.Workbook()\n",
    "sheet=excel.active\n",
    "sheet.title='Scraped Data USA Senate'\n",
    "sheet.append(['Person_Name','State_Name','Party_Name','Vote'])\n",
    "try:\n",
    "    source=requests.get(\"https://www.senate.gov/legislative/LIS/roll_call_votes/vote1171/vote_117_1_00094.htm#state\")\n",
    "    source.raise_for_status()\n",
    "    soup=BeautifulSoup(source.text,'html.parser')\n",
    "    lists=soup.find_all('div',class_=\"contenttext\")\n",
    "    names=soup.find_all('div',class_=\"contenttext responsive_col\")\n",
    "    i=0\n",
    "    while i<150 :\n",
    "        k=2\n",
    "        j=i+1\n",
    "        while k>0:\n",
    "            State_name=names[i].text.split(':')[0].strip()\n",
    "            Vote=names[j].text.split(',')[1].strip()\n",
    "            Person_Name=names[j].text.split(',')[0].split('(')[0].strip()\n",
    "            Party_Name=names[j].text.split(',')[0].split('(')[1].split('-')[0].strip()\n",
    "            sheet.append([Person_Name,State_name,Party_Name,Vote])\n",
    "            k=k-1\n",
    "            j=j+1\n",
    "        i=i+3\n",
    "    #for name in names:\n",
    "     #   State_Name=name.b.text\n",
    "     #   if len(State)!=3 and State!=\"Not Voting\":\n",
    "           \n",
    "        \n",
    "    \n",
    "            \n",
    "except Exception as e:\n",
    "    print(e)\n",
    "excel.save('USA Senate Scraped Data.xlsx')"
   ]
  },
  {
   "cell_type": "code",
   "execution_count": 3,
   "id": "42229327",
   "metadata": {},
   "outputs": [],
   "source": [
    "import pandas as pd\n",
    "ans={}"
   ]
  },
  {
   "cell_type": "code",
   "execution_count": 4,
   "id": "846762e6",
   "metadata": {},
   "outputs": [],
   "source": [
    "df = pd.DataFrame(pd.read_excel(\"/Users/deep/USA Senate Scraped Data.xlsx\"))"
   ]
  },
  {
   "cell_type": "code",
   "execution_count": 5,
   "id": "bde37a0b",
   "metadata": {},
   "outputs": [
    {
     "data": {
      "text/html": [
       "<div>\n",
       "<style scoped>\n",
       "    .dataframe tbody tr th:only-of-type {\n",
       "        vertical-align: middle;\n",
       "    }\n",
       "\n",
       "    .dataframe tbody tr th {\n",
       "        vertical-align: top;\n",
       "    }\n",
       "\n",
       "    .dataframe thead th {\n",
       "        text-align: right;\n",
       "    }\n",
       "</style>\n",
       "<table border=\"1\" class=\"dataframe\">\n",
       "  <thead>\n",
       "    <tr style=\"text-align: right;\">\n",
       "      <th></th>\n",
       "      <th>Person_Name</th>\n",
       "      <th>State_Name</th>\n",
       "      <th>Party_Name</th>\n",
       "      <th>Vote</th>\n",
       "    </tr>\n",
       "  </thead>\n",
       "  <tbody>\n",
       "    <tr>\n",
       "      <th>0</th>\n",
       "      <td>Shelby</td>\n",
       "      <td>Alabama</td>\n",
       "      <td>R</td>\n",
       "      <td>Yea</td>\n",
       "    </tr>\n",
       "    <tr>\n",
       "      <th>1</th>\n",
       "      <td>Tuberville</td>\n",
       "      <td>Alabama</td>\n",
       "      <td>R</td>\n",
       "      <td>Yea</td>\n",
       "    </tr>\n",
       "    <tr>\n",
       "      <th>2</th>\n",
       "      <td>Murkowski</td>\n",
       "      <td>Alaska</td>\n",
       "      <td>R</td>\n",
       "      <td>Yea</td>\n",
       "    </tr>\n",
       "    <tr>\n",
       "      <th>3</th>\n",
       "      <td>Sullivan</td>\n",
       "      <td>Alaska</td>\n",
       "      <td>R</td>\n",
       "      <td>Not Voting</td>\n",
       "    </tr>\n",
       "    <tr>\n",
       "      <th>4</th>\n",
       "      <td>Kelly</td>\n",
       "      <td>Arizona</td>\n",
       "      <td>D</td>\n",
       "      <td>Nay</td>\n",
       "    </tr>\n",
       "    <tr>\n",
       "      <th>...</th>\n",
       "      <td>...</td>\n",
       "      <td>...</td>\n",
       "      <td>...</td>\n",
       "      <td>...</td>\n",
       "    </tr>\n",
       "    <tr>\n",
       "      <th>95</th>\n",
       "      <td>Manchin</td>\n",
       "      <td>West Virginia</td>\n",
       "      <td>D</td>\n",
       "      <td>Yea</td>\n",
       "    </tr>\n",
       "    <tr>\n",
       "      <th>96</th>\n",
       "      <td>Baldwin</td>\n",
       "      <td>Wisconsin</td>\n",
       "      <td>D</td>\n",
       "      <td>Nay</td>\n",
       "    </tr>\n",
       "    <tr>\n",
       "      <th>97</th>\n",
       "      <td>Johnson</td>\n",
       "      <td>Wisconsin</td>\n",
       "      <td>R</td>\n",
       "      <td>Yea</td>\n",
       "    </tr>\n",
       "    <tr>\n",
       "      <th>98</th>\n",
       "      <td>Barrasso</td>\n",
       "      <td>Wyoming</td>\n",
       "      <td>R</td>\n",
       "      <td>Yea</td>\n",
       "    </tr>\n",
       "    <tr>\n",
       "      <th>99</th>\n",
       "      <td>Lummis</td>\n",
       "      <td>Wyoming</td>\n",
       "      <td>R</td>\n",
       "      <td>Yea</td>\n",
       "    </tr>\n",
       "  </tbody>\n",
       "</table>\n",
       "<p>100 rows × 4 columns</p>\n",
       "</div>"
      ],
      "text/plain": [
       "   Person_Name     State_Name Party_Name        Vote\n",
       "0       Shelby        Alabama          R         Yea\n",
       "1   Tuberville        Alabama          R         Yea\n",
       "2    Murkowski         Alaska          R         Yea\n",
       "3     Sullivan         Alaska          R  Not Voting\n",
       "4        Kelly        Arizona          D         Nay\n",
       "..         ...            ...        ...         ...\n",
       "95     Manchin  West Virginia          D         Yea\n",
       "96     Baldwin      Wisconsin          D         Nay\n",
       "97     Johnson      Wisconsin          R         Yea\n",
       "98    Barrasso        Wyoming          R         Yea\n",
       "99      Lummis        Wyoming          R         Yea\n",
       "\n",
       "[100 rows x 4 columns]"
      ]
     },
     "execution_count": 5,
     "metadata": {},
     "output_type": "execute_result"
    }
   ],
   "source": [
    "df"
   ]
  },
  {
   "cell_type": "code",
   "execution_count": 6,
   "id": "ad255460",
   "metadata": {},
   "outputs": [
    {
     "name": "stdout",
     "output_type": "stream",
     "text": [
      "0\n"
     ]
    }
   ],
   "source": [
    "#Q.1 How many democrats did not vote?\n",
    "res=df[df['Party_Name']=='D']['Vote']\n",
    "cnt=0\n",
    "for i in res:\n",
    "    if i=='Not Voting':\n",
    "        cnt=cnt+1\n",
    "print(cnt)\n",
    "ans[1]=cnt"
   ]
  },
  {
   "cell_type": "code",
   "execution_count": 7,
   "id": "7752c82a",
   "metadata": {},
   "outputs": [
    {
     "name": "stdout",
     "output_type": "stream",
     "text": [
      "49\n"
     ]
    }
   ],
   "source": [
    "#Q.2 How many republicans voted Yea?\n",
    "ans[2]=df[df['Party_Name']=='R']['Vote'].value_counts()[0]\n",
    "print(ans[2])"
   ]
  },
  {
   "cell_type": "code",
   "execution_count": 8,
   "id": "2f013cbf",
   "metadata": {},
   "outputs": [
    {
     "name": "stdout",
     "output_type": "stream",
     "text": [
      "6\n"
     ]
    },
    {
     "name": "stderr",
     "output_type": "stream",
     "text": [
      "/Users/deep/opt/anaconda3/lib/python3.9/site-packages/pandas/core/indexing.py:1724: SettingWithCopyWarning: \n",
      "A value is trying to be set on a copy of a slice from a DataFrame\n",
      "\n",
      "See the caveats in the documentation: https://pandas.pydata.org/pandas-docs/stable/user_guide/indexing.html#returning-a-view-versus-a-copy\n",
      "  self._setitem_with_indexer_missing(indexer, value)\n",
      "/var/folders/p7/ngcssct148s8rbrbrthk7fb80000gn/T/ipykernel_48883/4221474415.py:8: SettingWithCopyWarning: \n",
      "A value is trying to be set on a copy of a slice from a DataFrame\n",
      "\n",
      "See the caveats in the documentation: https://pandas.pydata.org/pandas-docs/stable/user_guide/indexing.html#returning-a-view-versus-a-copy\n",
      "  ans[3]=cnt\n"
     ]
    }
   ],
   "source": [
    "#Q.3 What's the total number of Yea votes from all senators whose name starts with \"B\"?\n",
    "ans=(df[df['Vote']==\"Yea\"]['Person_Name'])\n",
    "cnt=0\n",
    "for i in ans:\n",
    "    if i[0]=='B':\n",
    "        cnt=cnt+1\n",
    "print(cnt)\n",
    "ans[3]=cnt"
   ]
  },
  {
   "cell_type": "code",
   "execution_count": 9,
   "id": "b561e884",
   "metadata": {},
   "outputs": [
    {
     "name": "stdout",
     "output_type": "stream",
     "text": [
      "29\n"
     ]
    },
    {
     "name": "stderr",
     "output_type": "stream",
     "text": [
      "/Users/deep/opt/anaconda3/lib/python3.9/site-packages/pandas/core/series.py:1056: SettingWithCopyWarning: \n",
      "A value is trying to be set on a copy of a slice from a DataFrame\n",
      "\n",
      "See the caveats in the documentation: https://pandas.pydata.org/pandas-docs/stable/user_guide/indexing.html#returning-a-view-versus-a-copy\n",
      "  cacher_needs_updating = self._check_is_chained_assignment_possible()\n"
     ]
    }
   ],
   "source": [
    "#Q.4 How many states voted all Yay?\n",
    "Res=((df[df['Vote']==\"Yea\"]['State_Name']))\n",
    "res=(len(set(Res)))\n",
    "print(res)\n",
    "ans[4]=res"
   ]
  },
  {
   "cell_type": "code",
   "execution_count": 10,
   "id": "187530c3",
   "metadata": {},
   "outputs": [],
   "source": [
    "#Q.5 How many states had at least 1 non-voting senator?\n",
    "ans[5]=df['Vote'].value_counts()[2]"
   ]
  },
  {
   "cell_type": "code",
   "execution_count": 11,
   "id": "adb9a525",
   "metadata": {},
   "outputs": [
    {
     "name": "stdout",
     "output_type": "stream",
     "text": [
      "22\n"
     ]
    }
   ],
   "source": [
    "#Q.6 How many states have both Republican senators?\n",
    "lists=df[df['Party_Name']=='R']['State_Name']\n",
    "dic={}\n",
    "cnt=0\n",
    "for i in lists:\n",
    "    if i  in dic.keys():\n",
    "        dic[i]=dic[i]+1\n",
    "    else:\n",
    "        dic[i]=1\n",
    "for i,j in dic.items():\n",
    "    if j==2:\n",
    "        cnt=cnt+1\n",
    "print(cnt)\n",
    "    \n",
    "ans[6]=cnt\n"
   ]
  },
  {
   "cell_type": "code",
   "execution_count": 12,
   "id": "a371a3e0",
   "metadata": {},
   "outputs": [],
   "source": [
    "#Q.7 How many states have both Republican and Democrat senators?\n",
    "ans[7]=(pd.get_dummies(df,columns=['Party_Name']).groupby(['State_Name']).sum()).query('Party_Name_R == 1 & Party_Name_D == 1').shape[0]"
   ]
  },
  {
   "cell_type": "code",
   "execution_count": 13,
   "id": "9dac2595",
   "metadata": {},
   "outputs": [
    {
     "name": "stdout",
     "output_type": "stream",
     "text": [
      "6\n"
     ]
    }
   ],
   "source": [
    "#Q.8 How many Senators have their names starting with W?\n",
    "res=df['Person_Name']\n",
    "cnt=0\n",
    "for i in res:\n",
    "    if i[0][0]=='W':\n",
    "        cnt=cnt+1\n",
    "print(cnt)\n",
    "ans[8]=cnt"
   ]
  },
  {
   "cell_type": "code",
   "execution_count": 14,
   "id": "0994f8f5",
   "metadata": {},
   "outputs": [],
   "source": [
    "#Q.9 What is the votes ratio of Democrats' major decision to Republican's major decision ? \n",
    "major_decision = pd.crosstab(df['Party_Name'],df['Vote']).max(axis = 1).loc[['D','R']].values\n",
    "ans[9]=round(major_decision[0] / major_decision[1],4)"
   ]
  },
  {
   "cell_type": "code",
   "execution_count": 15,
   "id": "28a088d4",
   "metadata": {},
   "outputs": [],
   "source": [
    "#Q.10 What is the highest absolute difference in percentage between yea and nay senators among the different parties? \n",
    "import numpy as np\n",
    "nayyea = pd.crosstab(df['Party_Name'],df['Vote']).astype(float)\n",
    "ph = abs(nayyea.Yea - nayyea.Nay)/nayyea.Yea\n",
    "maximum = 0\n",
    "for i in ph:\n",
    "    if i not in [np.nan,np.infty] and i > maximum:\n",
    "        maximum = i\n",
    "        \n",
    "ans[10]=str(round(maximum,4)*100) + '%'"
   ]
  },
  {
   "cell_type": "code",
   "execution_count": 16,
   "id": "1951bd90",
   "metadata": {},
   "outputs": [
    {
     "name": "stdout",
     "output_type": "stream",
     "text": [
      "3\n"
     ]
    }
   ],
   "source": [
    "#Q.11 How many Democrats voted Yea?\n",
    "res=df[df['Party_Name']=='D']['Vote'].value_counts()[1]\n",
    "print(res)\n",
    "ans[11]=res"
   ]
  },
  {
   "cell_type": "code",
   "execution_count": 17,
   "id": "2e4430d6",
   "metadata": {},
   "outputs": [
    {
     "name": "stdout",
     "output_type": "stream",
     "text": [
      "26\n"
     ]
    }
   ],
   "source": [
    " #Q.12 How many states voted all Nay?\n",
    "tns=set(df[df['Vote']=='Nay']['State_Name'])\n",
    "rem=(len(tns))\n",
    "print(rem)\n",
    "ans[12]=rem"
   ]
  },
  {
   "cell_type": "code",
   "execution_count": 18,
   "id": "21bc8c90",
   "metadata": {},
   "outputs": [
    {
     "name": "stdout",
     "output_type": "stream",
     "text": [
      "21\n"
     ]
    }
   ],
   "source": [
    "# Q.13 How many states have both Democrat senators?\n",
    "lists=df[df['Party_Name']=='D']['State_Name']\n",
    "dic={}\n",
    "cnt=0\n",
    "for i in lists:\n",
    "    if i  in dic.keys():\n",
    "        dic[i]=dic[i]+1\n",
    "    else:\n",
    "        dic[i]=1\n",
    "for i,j in dic.items():\n",
    "    if j==2:\n",
    "        cnt=cnt+1\n",
    "print(cnt)\n",
    "ans[13]=cnt"
   ]
  },
  {
   "cell_type": "code",
   "execution_count": 19,
   "id": "586268fc",
   "metadata": {},
   "outputs": [
    {
     "name": "stdout",
     "output_type": "stream",
     "text": [
      "1\n"
     ]
    }
   ],
   "source": [
    "#Q.14 How many senators did not vote?\n",
    "res=df['Vote'].value_counts()[2]\n",
    "print(res)\n",
    "ans[14]=res"
   ]
  },
  {
   "cell_type": "code",
   "execution_count": 20,
   "id": "e59b4053",
   "metadata": {},
   "outputs": [
    {
     "name": "stdout",
     "output_type": "stream",
     "text": [
      "1\n"
     ]
    }
   ],
   "source": [
    "#Q.15 How many states had at least 1 senator not voted?\n",
    "res=df['Vote'].value_counts()[2]\n",
    "print(res)\n",
    "ans[15]=res"
   ]
  },
  {
   "cell_type": "code",
   "execution_count": 21,
   "id": "2d1ad174",
   "metadata": {},
   "outputs": [
    {
     "name": "stdout",
     "output_type": "stream",
     "text": [
      "25.0\n"
     ]
    }
   ],
   "source": [
    "#Q.16 Ratio of number of rows to the number of columns in your dataset?\n",
    "ratio=df.shape[0]/df.shape[1]\n",
    "print(ratio)\n",
    "ans[16]=ratio"
   ]
  },
  {
   "cell_type": "code",
   "execution_count": 22,
   "id": "2609b585",
   "metadata": {},
   "outputs": [],
   "source": [
    "import csv\n",
    "\n",
    "answers = []\n",
    "for i in range(1,17):\n",
    "    answers.append(['Q'+str(i),ans[i]])\n",
    "        \n",
    "\n",
    "filename = \"TDS_PROJECT-1.csv\"\n",
    "\n",
    "with open(filename, 'w',newline='') as csvfile:  \n",
    "    csvwriter = csv.writer(csvfile,dialect='excel') \n",
    "    csvwriter.writerows(answers)"
   ]
  },
  {
   "cell_type": "code",
   "execution_count": 26,
   "id": "5e35126d",
   "metadata": {},
   "outputs": [
    {
     "data": {
      "text/html": [
       "<div>\n",
       "<style scoped>\n",
       "    .dataframe tbody tr th:only-of-type {\n",
       "        vertical-align: middle;\n",
       "    }\n",
       "\n",
       "    .dataframe tbody tr th {\n",
       "        vertical-align: top;\n",
       "    }\n",
       "\n",
       "    .dataframe thead th {\n",
       "        text-align: right;\n",
       "    }\n",
       "</style>\n",
       "<table border=\"1\" class=\"dataframe\">\n",
       "  <thead>\n",
       "    <tr style=\"text-align: right;\">\n",
       "      <th></th>\n",
       "      <th>Person_Name</th>\n",
       "      <th>State_Name</th>\n",
       "      <th>Party_Name</th>\n",
       "      <th>Vote</th>\n",
       "    </tr>\n",
       "  </thead>\n",
       "  <tbody>\n",
       "    <tr>\n",
       "      <th>0</th>\n",
       "      <td>Shelby</td>\n",
       "      <td>Alabama</td>\n",
       "      <td>R</td>\n",
       "      <td>Yea</td>\n",
       "    </tr>\n",
       "    <tr>\n",
       "      <th>1</th>\n",
       "      <td>Tuberville</td>\n",
       "      <td>Alabama</td>\n",
       "      <td>R</td>\n",
       "      <td>Yea</td>\n",
       "    </tr>\n",
       "    <tr>\n",
       "      <th>2</th>\n",
       "      <td>Murkowski</td>\n",
       "      <td>Alaska</td>\n",
       "      <td>R</td>\n",
       "      <td>Yea</td>\n",
       "    </tr>\n",
       "    <tr>\n",
       "      <th>3</th>\n",
       "      <td>Sullivan</td>\n",
       "      <td>Alaska</td>\n",
       "      <td>R</td>\n",
       "      <td>Not Voting</td>\n",
       "    </tr>\n",
       "    <tr>\n",
       "      <th>4</th>\n",
       "      <td>Kelly</td>\n",
       "      <td>Arizona</td>\n",
       "      <td>D</td>\n",
       "      <td>Nay</td>\n",
       "    </tr>\n",
       "    <tr>\n",
       "      <th>...</th>\n",
       "      <td>...</td>\n",
       "      <td>...</td>\n",
       "      <td>...</td>\n",
       "      <td>...</td>\n",
       "    </tr>\n",
       "    <tr>\n",
       "      <th>95</th>\n",
       "      <td>Manchin</td>\n",
       "      <td>West Virginia</td>\n",
       "      <td>D</td>\n",
       "      <td>Yea</td>\n",
       "    </tr>\n",
       "    <tr>\n",
       "      <th>96</th>\n",
       "      <td>Baldwin</td>\n",
       "      <td>Wisconsin</td>\n",
       "      <td>D</td>\n",
       "      <td>Nay</td>\n",
       "    </tr>\n",
       "    <tr>\n",
       "      <th>97</th>\n",
       "      <td>Johnson</td>\n",
       "      <td>Wisconsin</td>\n",
       "      <td>R</td>\n",
       "      <td>Yea</td>\n",
       "    </tr>\n",
       "    <tr>\n",
       "      <th>98</th>\n",
       "      <td>Barrasso</td>\n",
       "      <td>Wyoming</td>\n",
       "      <td>R</td>\n",
       "      <td>Yea</td>\n",
       "    </tr>\n",
       "    <tr>\n",
       "      <th>99</th>\n",
       "      <td>Lummis</td>\n",
       "      <td>Wyoming</td>\n",
       "      <td>R</td>\n",
       "      <td>Yea</td>\n",
       "    </tr>\n",
       "  </tbody>\n",
       "</table>\n",
       "<p>100 rows × 4 columns</p>\n",
       "</div>"
      ],
      "text/plain": [
       "   Person_Name     State_Name Party_Name        Vote\n",
       "0       Shelby        Alabama          R         Yea\n",
       "1   Tuberville        Alabama          R         Yea\n",
       "2    Murkowski         Alaska          R         Yea\n",
       "3     Sullivan         Alaska          R  Not Voting\n",
       "4        Kelly        Arizona          D         Nay\n",
       "..         ...            ...        ...         ...\n",
       "95     Manchin  West Virginia          D         Yea\n",
       "96     Baldwin      Wisconsin          D         Nay\n",
       "97     Johnson      Wisconsin          R         Yea\n",
       "98    Barrasso        Wyoming          R         Yea\n",
       "99      Lummis        Wyoming          R         Yea\n",
       "\n",
       "[100 rows x 4 columns]"
      ]
     },
     "execution_count": 26,
     "metadata": {},
     "output_type": "execute_result"
    }
   ],
   "source": [
    "import pandas as pd\n",
    "df=pd.read_excel(\"USA Senate Scraped Data.xlsx\")\n",
    "df"
   ]
  },
  {
   "cell_type": "code",
   "execution_count": 33,
   "id": "7a2ccd63",
   "metadata": {},
   "outputs": [
    {
     "data": {
      "text/plain": [
       "Nay    45\n",
       "Yea     3\n",
       "Name: Vote, dtype: int64"
      ]
     },
     "execution_count": 33,
     "metadata": {},
     "output_type": "execute_result"
    }
   ],
   "source": [
    "import matplotlib.pyplot as plt\n",
    "  \n",
    "# create data\n",
    "x = ['D','R']\n",
    "df[df['Party_Name']=='D']['Vote'].value_counts()\n",
    "\n"
   ]
  },
  {
   "cell_type": "code",
   "execution_count": 34,
   "id": "efe6a10b",
   "metadata": {},
   "outputs": [
    {
     "data": {
      "text/plain": [
       "Yea           49\n",
       "Not Voting     1\n",
       "Name: Vote, dtype: int64"
      ]
     },
     "execution_count": 34,
     "metadata": {},
     "output_type": "execute_result"
    }
   ],
   "source": [
    "df[df['Party_Name']=='R']['Vote'].value_counts()"
   ]
  },
  {
   "cell_type": "code",
   "execution_count": 35,
   "id": "5e05825b",
   "metadata": {},
   "outputs": [
    {
     "data": {
      "image/png": "[encoded data removed]",
      "text/plain": [
       "<Figure size 432x288 with 1 Axes>"
      ]
     },
     "metadata": {
      "needs_background": "light"
     },
     "output_type": "display_data"
    }
   ],
   "source": [
    "y1 = [3, 49]\n",
    "y2 = [49, 0]\n",
    "plt.bar(x, y1, color='r')\n",
    "plt.bar(x, y2, bottom=y1, color='b')\n",
    "plt.show()"
   ]
  },
  {
   "cell_type": "code",
   "execution_count": 39,
   "id": "ef4779c5",
   "metadata": {},
   "outputs": [
    {
     "data": {
      "text/plain": [
       "Text(0, 0.5, 'No_of_Votes')"
      ]
     },
     "execution_count": 39,
     "metadata": {},
     "output_type": "execute_result"
    },
    {
     "data": {
      "image/png": "[encoded data removed]",
      "text/plain": [
       "<Figure size 432x288 with 1 Axes>"
      ]
     },
     "metadata": {},
     "output_type": "display_data"
    }
   ],
   "source": [
    "import seaborn as sns\n",
    "sns.set_style(style='darkgrid')\n",
    "sns.histplot(x='Party_Name',hue='Vote',multiple='stack',data=df)\n",
    "plt.ylabel('No_of_Votes')"
   ]
  },
  {
   "cell_type": "code",
   "execution_count": 43,
   "id": "d72749af",
   "metadata": {},
   "outputs": [
    {
     "data": {
      "image/png": "[encoded data removed]",
      "text/plain": [
       "<Figure size 432x288 with 1 Axes>"
      ]
     },
     "metadata": {},
     "output_type": "display_data"
    }
   ],
   "source": [
    "import matplotlib.pyplot as plt\n",
    "import numpy as np\n",
    "\n",
    "y = np.array([49,1])\n",
    "mylabels = [\"Yea\",\"Not_Voting\"]\n",
    "\n",
    "plt.pie(y, labels = mylabels)\n",
    "plt.title('Republic votes distribution')\n",
    "plt.legend()\n",
    "plt.show()"
   ]
  },
  {
   "cell_type": "code",
   "execution_count": 62,
   "id": "d3b42b86",
   "metadata": {},
   "outputs": [
    {
     "data": {
      "text/html": [
       "<div>\n",
       "<style scoped>\n",
       "    .dataframe tbody tr th:only-of-type {\n",
       "        vertical-align: middle;\n",
       "    }\n",
       "\n",
       "    .dataframe tbody tr th {\n",
       "        vertical-align: top;\n",
       "    }\n",
       "\n",
       "    .dataframe thead th {\n",
       "        text-align: right;\n",
       "    }\n",
       "</style>\n",
       "<table border=\"1\" class=\"dataframe\">\n",
       "  <thead>\n",
       "    <tr style=\"text-align: right;\">\n",
       "      <th>Vote</th>\n",
       "      <th>Nay</th>\n",
       "      <th>Not Voting</th>\n",
       "      <th>Yea</th>\n",
       "    </tr>\n",
       "    <tr>\n",
       "      <th>Party_Name</th>\n",
       "      <th></th>\n",
       "      <th></th>\n",
       "      <th></th>\n",
       "    </tr>\n",
       "  </thead>\n",
       "  <tbody>\n",
       "    <tr>\n",
       "      <th>D</th>\n",
       "      <td>45</td>\n",
       "      <td>0</td>\n",
       "      <td>3</td>\n",
       "    </tr>\n",
       "    <tr>\n",
       "      <th>I</th>\n",
       "      <td>2</td>\n",
       "      <td>0</td>\n",
       "      <td>0</td>\n",
       "    </tr>\n",
       "    <tr>\n",
       "      <th>R</th>\n",
       "      <td>0</td>\n",
       "      <td>1</td>\n",
       "      <td>49</td>\n",
       "    </tr>\n",
       "  </tbody>\n",
       "</table>\n",
       "</div>"
      ],
      "text/plain": [
       "Vote        Nay  Not Voting  Yea\n",
       "Party_Name                      \n",
       "D            45           0    3\n",
       "I             2           0    0\n",
       "R             0           1   49"
      ]
     },
     "execution_count": 62,
     "metadata": {},
     "output_type": "execute_result"
    }
   ],
   "source": [
    "crosstable=pd.crosstab(df['Party_Name'],df['Vote'])\n",
    "crosstable"
   ]
  },
  {
   "cell_type": "code",
   "execution_count": 63,
   "id": "ea9b8de6",
   "metadata": {},
   "outputs": [
    {
     "data": {
      "text/html": [
       "<style type=\"text/css\">\n",
       "#T_5329b_row0_col0, #T_5329b_row2_col1, #T_5329b_row2_col2 {\n",
       "  background-color: #fde725;\n",
       "  color: #000000;\n",
       "}\n",
       "#T_5329b_row0_col1, #T_5329b_row1_col1, #T_5329b_row1_col2, #T_5329b_row2_col0 {\n",
       "  background-color: #440154;\n",
       "  color: #f1f1f1;\n",
       "}\n",
       "#T_5329b_row0_col2 {\n",
       "  background-color: #481769;\n",
       "  color: #f1f1f1;\n",
       "}\n",
       "#T_5329b_row1_col0 {\n",
       "  background-color: #471164;\n",
       "  color: #f1f1f1;\n",
       "}\n",
       "</style>\n",
       "<table id=\"T_5329b_\">\n",
       "  <thead>\n",
       "    <tr>\n",
       "      <th class=\"index_name level0\" >Vote</th>\n",
       "      <th class=\"col_heading level0 col0\" >Nay</th>\n",
       "      <th class=\"col_heading level0 col1\" >Not Voting</th>\n",
       "      <th class=\"col_heading level0 col2\" >Yea</th>\n",
       "    </tr>\n",
       "    <tr>\n",
       "      <th class=\"index_name level0\" >Party_Name</th>\n",
       "      <th class=\"blank col0\" >&nbsp;</th>\n",
       "      <th class=\"blank col1\" >&nbsp;</th>\n",
       "      <th class=\"blank col2\" >&nbsp;</th>\n",
       "    </tr>\n",
       "  </thead>\n",
       "  <tbody>\n",
       "    <tr>\n",
       "      <th id=\"T_5329b_level0_row0\" class=\"row_heading level0 row0\" >D</th>\n",
       "      <td id=\"T_5329b_row0_col0\" class=\"data row0 col0\" >45</td>\n",
       "      <td id=\"T_5329b_row0_col1\" class=\"data row0 col1\" >0</td>\n",
       "      <td id=\"T_5329b_row0_col2\" class=\"data row0 col2\" >3</td>\n",
       "    </tr>\n",
       "    <tr>\n",
       "      <th id=\"T_5329b_level0_row1\" class=\"row_heading level0 row1\" >I</th>\n",
       "      <td id=\"T_5329b_row1_col0\" class=\"data row1 col0\" >2</td>\n",
       "      <td id=\"T_5329b_row1_col1\" class=\"data row1 col1\" >0</td>\n",
       "      <td id=\"T_5329b_row1_col2\" class=\"data row1 col2\" >0</td>\n",
       "    </tr>\n",
       "    <tr>\n",
       "      <th id=\"T_5329b_level0_row2\" class=\"row_heading level0 row2\" >R</th>\n",
       "      <td id=\"T_5329b_row2_col0\" class=\"data row2 col0\" >0</td>\n",
       "      <td id=\"T_5329b_row2_col1\" class=\"data row2 col1\" >1</td>\n",
       "      <td id=\"T_5329b_row2_col2\" class=\"data row2 col2\" >49</td>\n",
       "    </tr>\n",
       "  </tbody>\n",
       "</table>\n"
      ],
      "text/plain": [
       "<pandas.io.formats.style.Styler at 0x7fe1ad150700>"
      ]
     },
     "execution_count": 63,
     "metadata": {},
     "output_type": "execute_result"
    }
   ],
   "source": [
    "crosstable.style.background_gradient(cmap='viridis')"
   ]
  },
  {
   "cell_type": "code",
   "execution_count": 64,
   "id": "7f812927",
   "metadata": {},
   "outputs": [
    {
     "data": {
      "text/plain": [
       "<AxesSubplot:xlabel='Vote', ylabel='Party_Name'>"
      ]
     },
     "execution_count": 64,
     "metadata": {},
     "output_type": "execute_result"
    },
    {
     "data": {
      "image/png": "[encoded data removed]",
      "text/plain": [
       "<Figure size 432x288 with 2 Axes>"
      ]
     },
     "metadata": {},
     "output_type": "display_data"
    }
   ],
   "source": [
    "sns.heatmap(crosstable,annot=True,cmap='viridis')"
   ]
  },
  {
   "cell_type": "code",
   "execution_count": 65,
   "id": "df4c2e11",
   "metadata": {},
   "outputs": [
    {
     "data": {
      "text/html": [
       "<div>\n",
       "<style scoped>\n",
       "    .dataframe tbody tr th:only-of-type {\n",
       "        vertical-align: middle;\n",
       "    }\n",
       "\n",
       "    .dataframe tbody tr th {\n",
       "        vertical-align: top;\n",
       "    }\n",
       "\n",
       "    .dataframe thead th {\n",
       "        text-align: right;\n",
       "    }\n",
       "</style>\n",
       "<table border=\"1\" class=\"dataframe\">\n",
       "  <thead>\n",
       "    <tr style=\"text-align: right;\">\n",
       "      <th></th>\n",
       "      <th>Person_Name</th>\n",
       "      <th>State_Name</th>\n",
       "      <th>Party_Name</th>\n",
       "      <th>Vote</th>\n",
       "    </tr>\n",
       "  </thead>\n",
       "  <tbody>\n",
       "    <tr>\n",
       "      <th>0</th>\n",
       "      <td>Shelby</td>\n",
       "      <td>Alabama</td>\n",
       "      <td>R</td>\n",
       "      <td>Yea</td>\n",
       "    </tr>\n",
       "    <tr>\n",
       "      <th>1</th>\n",
       "      <td>Tuberville</td>\n",
       "      <td>Alabama</td>\n",
       "      <td>R</td>\n",
       "      <td>Yea</td>\n",
       "    </tr>\n",
       "    <tr>\n",
       "      <th>2</th>\n",
       "      <td>Murkowski</td>\n",
       "      <td>Alaska</td>\n",
       "      <td>R</td>\n",
       "      <td>Yea</td>\n",
       "    </tr>\n",
       "    <tr>\n",
       "      <th>3</th>\n",
       "      <td>Sullivan</td>\n",
       "      <td>Alaska</td>\n",
       "      <td>R</td>\n",
       "      <td>Not Voting</td>\n",
       "    </tr>\n",
       "    <tr>\n",
       "      <th>4</th>\n",
       "      <td>Kelly</td>\n",
       "      <td>Arizona</td>\n",
       "      <td>D</td>\n",
       "      <td>Nay</td>\n",
       "    </tr>\n",
       "    <tr>\n",
       "      <th>...</th>\n",
       "      <td>...</td>\n",
       "      <td>...</td>\n",
       "      <td>...</td>\n",
       "      <td>...</td>\n",
       "    </tr>\n",
       "    <tr>\n",
       "      <th>95</th>\n",
       "      <td>Manchin</td>\n",
       "      <td>West Virginia</td>\n",
       "      <td>D</td>\n",
       "      <td>Yea</td>\n",
       "    </tr>\n",
       "    <tr>\n",
       "      <th>96</th>\n",
       "      <td>Baldwin</td>\n",
       "      <td>Wisconsin</td>\n",
       "      <td>D</td>\n",
       "      <td>Nay</td>\n",
       "    </tr>\n",
       "    <tr>\n",
       "      <th>97</th>\n",
       "      <td>Johnson</td>\n",
       "      <td>Wisconsin</td>\n",
       "      <td>R</td>\n",
       "      <td>Yea</td>\n",
       "    </tr>\n",
       "    <tr>\n",
       "      <th>98</th>\n",
       "      <td>Barrasso</td>\n",
       "      <td>Wyoming</td>\n",
       "      <td>R</td>\n",
       "      <td>Yea</td>\n",
       "    </tr>\n",
       "    <tr>\n",
       "      <th>99</th>\n",
       "      <td>Lummis</td>\n",
       "      <td>Wyoming</td>\n",
       "      <td>R</td>\n",
       "      <td>Yea</td>\n",
       "    </tr>\n",
       "  </tbody>\n",
       "</table>\n",
       "<p>100 rows × 4 columns</p>\n",
       "</div>"
      ],
      "text/plain": [
       "   Person_Name     State_Name Party_Name        Vote\n",
       "0       Shelby        Alabama          R         Yea\n",
       "1   Tuberville        Alabama          R         Yea\n",
       "2    Murkowski         Alaska          R         Yea\n",
       "3     Sullivan         Alaska          R  Not Voting\n",
       "4        Kelly        Arizona          D         Nay\n",
       "..         ...            ...        ...         ...\n",
       "95     Manchin  West Virginia          D         Yea\n",
       "96     Baldwin      Wisconsin          D         Nay\n",
       "97     Johnson      Wisconsin          R         Yea\n",
       "98    Barrasso        Wyoming          R         Yea\n",
       "99      Lummis        Wyoming          R         Yea\n",
       "\n",
       "[100 rows x 4 columns]"
      ]
     },
     "execution_count": 65,
     "metadata": {},
     "output_type": "execute_result"
    }
   ],
   "source": [
    "df"
   ]
  },
  {
   "cell_type": "code",
   "execution_count": 74,
   "id": "ca1131f6",
   "metadata": {},
   "outputs": [
    {
     "name": "stdout",
     "output_type": "stream",
     "text": [
      "Democratic Dominition: 21\n",
      "Republic Dominition: 22\n"
     ]
    }
   ],
   "source": [
    "\n",
    "lists=df[df['Party_Name']=='D']['State_Name']\n",
    "dic={}\n",
    "cnt1=0\n",
    "for i in lists:\n",
    "    if i  in dic.keys():\n",
    "        dic[i]=dic[i]+1\n",
    "    else:\n",
    "        dic[i]=1\n",
    "for i,j in dic.items():\n",
    "    if j==2:\n",
    "        cnt1=cnt1+1\n",
    "print(\"Democratic Dominition:\",cnt1)\n",
    "lists=df[df['Party_Name']=='R']['State_Name']\n",
    "dic={}\n",
    "cnt2=0\n",
    "for i in lists:\n",
    "    if i  in dic.keys():\n",
    "        dic[i]=dic[i]+1\n",
    "    else:\n",
    "        dic[i]=1\n",
    "for i,j in dic.items():\n",
    "    if j==2:\n",
    "        cnt2=cnt2+1\n",
    "        \n",
    "print(\"Republic Dominition:\",cnt2)"
   ]
  },
  {
   "cell_type": "code",
   "execution_count": 59,
   "id": "aa76699e",
   "metadata": {},
   "outputs": [
    {
     "name": "stdout",
     "output_type": "stream",
     "text": [
      "7\n"
     ]
    }
   ],
   "source": [
    "res=len(set(df['State_Name']))\n",
    "print(res-cnt1-cnt2)"
   ]
  },
  {
   "cell_type": "code",
   "execution_count": 61,
   "id": "9484a024",
   "metadata": {},
   "outputs": [
    {
     "data": {
      "image/png": "[encoded data removed]",
      "text/plain": [
       "<Figure size 432x288 with 1 Axes>"
      ]
     },
     "metadata": {},
     "output_type": "display_data"
    }
   ],
   "source": [
    "import matplotlib.pyplot as plt\n",
    "import numpy as np\n",
    "\n",
    "y = np.array([21, 22, 7])\n",
    "mylabels = [\"Democratic Dominition \", \"Republic Dominition\", \"Equal Dominition\"]\n",
    "\n",
    "plt.pie(y, labels = mylabels)\n",
    "plt.legend()\n",
    "plt.show() "
   ]
  },
  {
   "cell_type": "code",
   "execution_count": 67,
   "id": "cf1bb233",
   "metadata": {},
   "outputs": [
    {
     "data": {
      "image/png": "[encoded data removed]",
      "text/plain": [
       "<Figure size 432x288 with 1 Axes>"
      ]
     },
     "metadata": {},
     "output_type": "display_data"
    }
   ],
   "source": [
    "from matplotlib import pyplot as plt\n",
    "import numpy as np\n",
    "fig = plt.figure()\n",
    "ax = fig.add_axes([0,0,1,1])\n",
    "ax.axis('equal')\n",
    "langs = ['Democratic Dominition', 'Republic Dominition', 'Equal Dominition']\n",
    "students = [21,22,7]\n",
    "ax.pie(students, labels = langs,autopct='%1.2f%%')\n",
    "plt.legend()\n",
    "plt.show()"
   ]
  },
  {
   "cell_type": "code",
   "execution_count": null,
   "id": "5e2160c7",
   "metadata": {},
   "outputs": [],
   "source": []
  }
 ],
 "metadata": {
  "kernelspec": {
   "display_name": "Python 3 (ipykernel)",
   "language": "python",
   "name": "python3"
  },
  "language_info": {
   "codemirror_mode": {
    "name": "ipython",
    "version": 3
   },
   "file_extension": ".py",
   "mimetype": "text/x-python",
   "name": "python",
   "nbconvert_exporter": "python",
   "pygments_lexer": "ipython3",
   "version": "3.9.7"
  }
 },
 "nbformat": 4,
 "nbformat_minor": 5
}
