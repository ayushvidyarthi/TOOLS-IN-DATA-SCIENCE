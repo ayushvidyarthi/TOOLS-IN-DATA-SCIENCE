{
 "cells": [
  {
   "cell_type": "code",
   "execution_count": 1,
   "id": "bfef3218",
   "metadata": {},
   "outputs": [],
   "source": [
    "import pandas as pd\n",
    "import numpy as np"
   ]
  },
  {
   "cell_type": "code",
   "execution_count": 2,
   "id": "97a54a8f",
   "metadata": {},
   "outputs": [],
   "source": [
    "books=pd.read_csv(\"/Users/deep/Downloads/books.csv\")"
   ]
  },
  {
   "cell_type": "code",
   "execution_count": 4,
   "id": "839d198a",
   "metadata": {},
   "outputs": [
    {
     "data": {
      "text/html": [
       "<div>\n",
       "<style scoped>\n",
       "    .dataframe tbody tr th:only-of-type {\n",
       "        vertical-align: middle;\n",
       "    }\n",
       "\n",
       "    .dataframe tbody tr th {\n",
       "        vertical-align: top;\n",
       "    }\n",
       "\n",
       "    .dataframe thead th {\n",
       "        text-align: right;\n",
       "    }\n",
       "</style>\n",
       "<table border=\"1\" class=\"dataframe\">\n",
       "  <thead>\n",
       "    <tr style=\"text-align: right;\">\n",
       "      <th></th>\n",
       "      <th>book_id</th>\n",
       "      <th>goodreads_book_id</th>\n",
       "      <th>best_book_id</th>\n",
       "      <th>work_id</th>\n",
       "      <th>books_count</th>\n",
       "      <th>isbn</th>\n",
       "      <th>isbn13</th>\n",
       "      <th>authors</th>\n",
       "      <th>original_publication_year</th>\n",
       "      <th>original_title</th>\n",
       "      <th>...</th>\n",
       "      <th>ratings_count</th>\n",
       "      <th>work_ratings_count</th>\n",
       "      <th>work_text_reviews_count</th>\n",
       "      <th>ratings_1</th>\n",
       "      <th>ratings_2</th>\n",
       "      <th>ratings_3</th>\n",
       "      <th>ratings_4</th>\n",
       "      <th>ratings_5</th>\n",
       "      <th>image_url</th>\n",
       "      <th>small_image_url</th>\n",
       "    </tr>\n",
       "  </thead>\n",
       "  <tbody>\n",
       "    <tr>\n",
       "      <th>0</th>\n",
       "      <td>60</td>\n",
       "      <td>1618</td>\n",
       "      <td>1618</td>\n",
       "      <td>4259809</td>\n",
       "      <td>183</td>\n",
       "      <td>1400032717</td>\n",
       "      <td>9.781400e+12</td>\n",
       "      <td>Mark Haddon</td>\n",
       "      <td>2003.0</td>\n",
       "      <td>The Curious Incident of the Dog in the Night-Time</td>\n",
       "      <td>...</td>\n",
       "      <td>867553</td>\n",
       "      <td>915790</td>\n",
       "      <td>35796</td>\n",
       "      <td>21049</td>\n",
       "      <td>58117</td>\n",
       "      <td>218218</td>\n",
       "      <td>355925</td>\n",
       "      <td>262481</td>\n",
       "      <td>https://images.gr-assets.com/books/1479863624m...</td>\n",
       "      <td>https://images.gr-assets.com/books/1479863624s...</td>\n",
       "    </tr>\n",
       "    <tr>\n",
       "      <th>1</th>\n",
       "      <td>61</td>\n",
       "      <td>22557272</td>\n",
       "      <td>22557272</td>\n",
       "      <td>41107568</td>\n",
       "      <td>14</td>\n",
       "      <td>1594633665</td>\n",
       "      <td>9.781595e+12</td>\n",
       "      <td>Paula Hawkins</td>\n",
       "      <td>2015.0</td>\n",
       "      <td>The Girl on the Train</td>\n",
       "      <td>...</td>\n",
       "      <td>1008778</td>\n",
       "      <td>1226485</td>\n",
       "      <td>93600</td>\n",
       "      <td>27773</td>\n",
       "      <td>73897</td>\n",
       "      <td>273817</td>\n",
       "      <td>488447</td>\n",
       "      <td>362551</td>\n",
       "      <td>https://images.gr-assets.com/books/1490903702m...</td>\n",
       "      <td>https://images.gr-assets.com/books/1490903702s...</td>\n",
       "    </tr>\n",
       "    <tr>\n",
       "      <th>2</th>\n",
       "      <td>99</td>\n",
       "      <td>11857408</td>\n",
       "      <td>11857408</td>\n",
       "      <td>16813814</td>\n",
       "      <td>147</td>\n",
       "      <td>1612130585</td>\n",
       "      <td>9.781612e+12</td>\n",
       "      <td>E.L. James</td>\n",
       "      <td>2011.0</td>\n",
       "      <td>Fifty Shades Darker</td>\n",
       "      <td>...</td>\n",
       "      <td>552059</td>\n",
       "      <td>623340</td>\n",
       "      <td>28052</td>\n",
       "      <td>37245</td>\n",
       "      <td>58935</td>\n",
       "      <td>114203</td>\n",
       "      <td>150906</td>\n",
       "      <td>262051</td>\n",
       "      <td>https://images.gr-assets.com/books/1358266080m...</td>\n",
       "      <td>https://images.gr-assets.com/books/1358266080s...</td>\n",
       "    </tr>\n",
       "    <tr>\n",
       "      <th>3</th>\n",
       "      <td>112</td>\n",
       "      <td>15507958</td>\n",
       "      <td>15507958</td>\n",
       "      <td>17763198</td>\n",
       "      <td>168</td>\n",
       "      <td>670026603</td>\n",
       "      <td>9.780670e+12</td>\n",
       "      <td>Jojo Moyes</td>\n",
       "      <td>2012.0</td>\n",
       "      <td>Me Before You</td>\n",
       "      <td>...</td>\n",
       "      <td>587647</td>\n",
       "      <td>741133</td>\n",
       "      <td>71412</td>\n",
       "      <td>10346</td>\n",
       "      <td>21880</td>\n",
       "      <td>91517</td>\n",
       "      <td>249474</td>\n",
       "      <td>367916</td>\n",
       "      <td>https://images.gr-assets.com/books/1357108762m...</td>\n",
       "      <td>https://images.gr-assets.com/books/1357108762s...</td>\n",
       "    </tr>\n",
       "    <tr>\n",
       "      <th>4</th>\n",
       "      <td>119</td>\n",
       "      <td>38447</td>\n",
       "      <td>38447</td>\n",
       "      <td>1119185</td>\n",
       "      <td>236</td>\n",
       "      <td>038549081X</td>\n",
       "      <td>9.780385e+12</td>\n",
       "      <td>Margaret Atwood</td>\n",
       "      <td>1985.0</td>\n",
       "      <td>The Handmaid's Tale</td>\n",
       "      <td>...</td>\n",
       "      <td>607889</td>\n",
       "      <td>683564</td>\n",
       "      <td>35925</td>\n",
       "      <td>13998</td>\n",
       "      <td>32561</td>\n",
       "      <td>116975</td>\n",
       "      <td>252942</td>\n",
       "      <td>267088</td>\n",
       "      <td>https://images.gr-assets.com/books/1498057733m...</td>\n",
       "      <td>https://images.gr-assets.com/books/1498057733s...</td>\n",
       "    </tr>\n",
       "  </tbody>\n",
       "</table>\n",
       "<p>5 rows × 23 columns</p>\n",
       "</div>"
      ],
      "text/plain": [
       "   book_id  goodreads_book_id  best_book_id   work_id  books_count  \\\n",
       "0       60               1618          1618   4259809          183   \n",
       "1       61           22557272      22557272  41107568           14   \n",
       "2       99           11857408      11857408  16813814          147   \n",
       "3      112           15507958      15507958  17763198          168   \n",
       "4      119              38447         38447   1119185          236   \n",
       "\n",
       "         isbn        isbn13          authors  original_publication_year  \\\n",
       "0  1400032717  9.781400e+12      Mark Haddon                     2003.0   \n",
       "1  1594633665  9.781595e+12    Paula Hawkins                     2015.0   \n",
       "2  1612130585  9.781612e+12       E.L. James                     2011.0   \n",
       "3   670026603  9.780670e+12       Jojo Moyes                     2012.0   \n",
       "4  038549081X  9.780385e+12  Margaret Atwood                     1985.0   \n",
       "\n",
       "                                      original_title  ... ratings_count  \\\n",
       "0  The Curious Incident of the Dog in the Night-Time  ...        867553   \n",
       "1                              The Girl on the Train  ...       1008778   \n",
       "2                                Fifty Shades Darker  ...        552059   \n",
       "3                                      Me Before You  ...        587647   \n",
       "4                                The Handmaid's Tale  ...        607889   \n",
       "\n",
       "  work_ratings_count  work_text_reviews_count  ratings_1  ratings_2  \\\n",
       "0             915790                    35796      21049      58117   \n",
       "1            1226485                    93600      27773      73897   \n",
       "2             623340                    28052      37245      58935   \n",
       "3             741133                    71412      10346      21880   \n",
       "4             683564                    35925      13998      32561   \n",
       "\n",
       "   ratings_3  ratings_4  ratings_5  \\\n",
       "0     218218     355925     262481   \n",
       "1     273817     488447     362551   \n",
       "2     114203     150906     262051   \n",
       "3      91517     249474     367916   \n",
       "4     116975     252942     267088   \n",
       "\n",
       "                                           image_url  \\\n",
       "0  https://images.gr-assets.com/books/1479863624m...   \n",
       "1  https://images.gr-assets.com/books/1490903702m...   \n",
       "2  https://images.gr-assets.com/books/1358266080m...   \n",
       "3  https://images.gr-assets.com/books/1357108762m...   \n",
       "4  https://images.gr-assets.com/books/1498057733m...   \n",
       "\n",
       "                                     small_image_url  \n",
       "0  https://images.gr-assets.com/books/1479863624s...  \n",
       "1  https://images.gr-assets.com/books/1490903702s...  \n",
       "2  https://images.gr-assets.com/books/1358266080s...  \n",
       "3  https://images.gr-assets.com/books/1357108762s...  \n",
       "4  https://images.gr-assets.com/books/1498057733s...  \n",
       "\n",
       "[5 rows x 23 columns]"
      ]
     },
     "execution_count": 4,
     "metadata": {},
     "output_type": "execute_result"
    }
   ],
   "source": [
    "books.head()"
   ]
  },
  {
   "cell_type": "code",
   "execution_count": 8,
   "id": "6fe6c94f",
   "metadata": {},
   "outputs": [
    {
     "name": "stdout",
     "output_type": "stream",
     "text": [
      "No of Unique books are  1343\n"
     ]
    }
   ],
   "source": [
    "#Q1 : How many unique books are present in the dataset? Evaluate based on the 'book_id' \n",
    "unique_book=np.unique(books['book_id'])\n",
    "print(\"No of Unique books are \",len(unique_book))"
   ]
  },
  {
   "cell_type": "code",
   "execution_count": 10,
   "id": "33a43b1a",
   "metadata": {},
   "outputs": [],
   "source": [
    "ratings=pd.read_csv(\"/Users/deep/Downloads/ratings.csv\")"
   ]
  },
  {
   "cell_type": "code",
   "execution_count": 11,
   "id": "7fb16b35",
   "metadata": {},
   "outputs": [
    {
     "data": {
      "text/html": [
       "<div>\n",
       "<style scoped>\n",
       "    .dataframe tbody tr th:only-of-type {\n",
       "        vertical-align: middle;\n",
       "    }\n",
       "\n",
       "    .dataframe tbody tr th {\n",
       "        vertical-align: top;\n",
       "    }\n",
       "\n",
       "    .dataframe thead th {\n",
       "        text-align: right;\n",
       "    }\n",
       "</style>\n",
       "<table border=\"1\" class=\"dataframe\">\n",
       "  <thead>\n",
       "    <tr style=\"text-align: right;\">\n",
       "      <th></th>\n",
       "      <th>user_id</th>\n",
       "      <th>book_id</th>\n",
       "      <th>rating</th>\n",
       "    </tr>\n",
       "  </thead>\n",
       "  <tbody>\n",
       "    <tr>\n",
       "      <th>0</th>\n",
       "      <td>9</td>\n",
       "      <td>60</td>\n",
       "      <td>5</td>\n",
       "    </tr>\n",
       "    <tr>\n",
       "      <th>1</th>\n",
       "      <td>9</td>\n",
       "      <td>119</td>\n",
       "      <td>4</td>\n",
       "    </tr>\n",
       "    <tr>\n",
       "      <th>2</th>\n",
       "      <td>15</td>\n",
       "      <td>167</td>\n",
       "      <td>5</td>\n",
       "    </tr>\n",
       "    <tr>\n",
       "      <th>3</th>\n",
       "      <td>15</td>\n",
       "      <td>119</td>\n",
       "      <td>5</td>\n",
       "    </tr>\n",
       "    <tr>\n",
       "      <th>4</th>\n",
       "      <td>18</td>\n",
       "      <td>60</td>\n",
       "      <td>3</td>\n",
       "    </tr>\n",
       "  </tbody>\n",
       "</table>\n",
       "</div>"
      ],
      "text/plain": [
       "   user_id  book_id  rating\n",
       "0        9       60       5\n",
       "1        9      119       4\n",
       "2       15      167       5\n",
       "3       15      119       5\n",
       "4       18       60       3"
      ]
     },
     "execution_count": 11,
     "metadata": {},
     "output_type": "execute_result"
    }
   ],
   "source": [
    "ratings.head()"
   ]
  },
  {
   "cell_type": "code",
   "execution_count": 13,
   "id": "23edd8d0",
   "metadata": {},
   "outputs": [
    {
     "name": "stdout",
     "output_type": "stream",
     "text": [
      "No of Unique users are  51595\n"
     ]
    }
   ],
   "source": [
    "# Q.2 How many unique users are present in the dataset [ratings.csv]\n",
    "unique_users=np.unique(ratings['user_id'])\n",
    "print(\"No of Unique users are \",len(unique_users))"
   ]
  },
  {
   "cell_type": "code",
   "execution_count": 60,
   "id": "4ae753dc",
   "metadata": {},
   "outputs": [
    {
     "data": {
      "text/plain": [
       "111"
      ]
     },
     "execution_count": 60,
     "metadata": {},
     "output_type": "execute_result"
    }
   ],
   "source": [
    "# Q.3 How many books do not have an original title [books.csv] ?\n",
    "books['original_title'].isnull().sum()\n"
   ]
  },
  {
   "cell_type": "code",
   "execution_count": 28,
   "id": "d7535c66",
   "metadata": {},
   "outputs": [
    {
     "name": "stdout",
     "output_type": "stream",
     "text": [
      "The Girl on the Train\n"
     ]
    }
   ],
   "source": [
    "# Q.4 Which book (original_title) has the maximum number of ratings based on ‘work_ratings_count’  [books.csv] ? \n",
    "mx=0\n",
    "cnt=0\n",
    "for i in books['work_ratings_count']:\n",
    "    if  i>mx:\n",
    "        mx=i\n",
    "        cnt=cnt+1\n",
    "print(books['original_title'][cnt-1])\n",
    "        "
   ]
  },
  {
   "cell_type": "code",
   "execution_count": 32,
   "id": "71b2fc4c",
   "metadata": {},
   "outputs": [
    {
     "data": {
      "text/html": [
       "<div>\n",
       "<style scoped>\n",
       "    .dataframe tbody tr th:only-of-type {\n",
       "        vertical-align: middle;\n",
       "    }\n",
       "\n",
       "    .dataframe tbody tr th {\n",
       "        vertical-align: top;\n",
       "    }\n",
       "\n",
       "    .dataframe thead th {\n",
       "        text-align: right;\n",
       "    }\n",
       "</style>\n",
       "<table border=\"1\" class=\"dataframe\">\n",
       "  <thead>\n",
       "    <tr style=\"text-align: right;\">\n",
       "      <th></th>\n",
       "      <th>goodreads_book_id</th>\n",
       "      <th>tag_id</th>\n",
       "      <th>count</th>\n",
       "    </tr>\n",
       "  </thead>\n",
       "  <tbody>\n",
       "    <tr>\n",
       "      <th>0</th>\n",
       "      <td>29</td>\n",
       "      <td>30574</td>\n",
       "      <td>5492</td>\n",
       "    </tr>\n",
       "    <tr>\n",
       "      <th>1</th>\n",
       "      <td>29</td>\n",
       "      <td>8717</td>\n",
       "      <td>867</td>\n",
       "    </tr>\n",
       "    <tr>\n",
       "      <th>2</th>\n",
       "      <td>29</td>\n",
       "      <td>21689</td>\n",
       "      <td>410</td>\n",
       "    </tr>\n",
       "    <tr>\n",
       "      <th>3</th>\n",
       "      <td>29</td>\n",
       "      <td>15048</td>\n",
       "      <td>170</td>\n",
       "    </tr>\n",
       "    <tr>\n",
       "      <th>4</th>\n",
       "      <td>29</td>\n",
       "      <td>21773</td>\n",
       "      <td>167</td>\n",
       "    </tr>\n",
       "    <tr>\n",
       "      <th>...</th>\n",
       "      <td>...</td>\n",
       "      <td>...</td>\n",
       "      <td>...</td>\n",
       "    </tr>\n",
       "    <tr>\n",
       "      <th>134257</th>\n",
       "      <td>33288638</td>\n",
       "      <td>21303</td>\n",
       "      <td>7</td>\n",
       "    </tr>\n",
       "    <tr>\n",
       "      <th>134258</th>\n",
       "      <td>33288638</td>\n",
       "      <td>17271</td>\n",
       "      <td>7</td>\n",
       "    </tr>\n",
       "    <tr>\n",
       "      <th>134259</th>\n",
       "      <td>33288638</td>\n",
       "      <td>1126</td>\n",
       "      <td>7</td>\n",
       "    </tr>\n",
       "    <tr>\n",
       "      <th>134260</th>\n",
       "      <td>33288638</td>\n",
       "      <td>11478</td>\n",
       "      <td>7</td>\n",
       "    </tr>\n",
       "    <tr>\n",
       "      <th>134261</th>\n",
       "      <td>33288638</td>\n",
       "      <td>27939</td>\n",
       "      <td>7</td>\n",
       "    </tr>\n",
       "  </tbody>\n",
       "</table>\n",
       "<p>134262 rows × 3 columns</p>\n",
       "</div>"
      ],
      "text/plain": [
       "        goodreads_book_id  tag_id  count\n",
       "0                      29   30574   5492\n",
       "1                      29    8717    867\n",
       "2                      29   21689    410\n",
       "3                      29   15048    170\n",
       "4                      29   21773    167\n",
       "...                   ...     ...    ...\n",
       "134257           33288638   21303      7\n",
       "134258           33288638   17271      7\n",
       "134259           33288638    1126      7\n",
       "134260           33288638   11478      7\n",
       "134261           33288638   27939      7\n",
       "\n",
       "[134262 rows x 3 columns]"
      ]
     },
     "execution_count": 32,
     "metadata": {},
     "output_type": "execute_result"
    }
   ],
   "source": [
    "# Q.5 Which tag_id  is the most frequently used ie. mapped with the highest number of books [book_tags.csv]  ? (In case of more than one tag, mention the tag id with the least numerical value) \n",
    "book_tags=pd.read_csv(\"/Users/deep/Downloads/book_tags.csv\")\n",
    "book_tags"
   ]
  },
  {
   "cell_type": "code",
   "execution_count": 36,
   "id": "4ec3b45a",
   "metadata": {},
   "outputs": [
    {
     "name": "stdout",
     "output_type": "stream",
     "text": [
      "Most frequent tag_id is 25000\n"
     ]
    }
   ],
   "source": [
    "dic={}\n",
    "for i in book_tags['tag_id']:\n",
    "    if i not in dic.keys():\n",
    "        dic[i]=1\n",
    "    else:\n",
    "        dic[i]=dic[i]+1\n",
    "res=0\n",
    "ans=0\n",
    "for i,j in dic.items():\n",
    "    if j>res:\n",
    "        res=j\n",
    "        ans=i\n",
    "print(\"Most frequent tag_id is\",ans)\n",
    "\n",
    "        \n",
    "\n"
   ]
  },
  {
   "cell_type": "code",
   "execution_count": 37,
   "id": "660c2979",
   "metadata": {},
   "outputs": [
    {
     "data": {
      "text/plain": [
       "\"The Handmaid's Tale\""
      ]
     },
     "execution_count": 37,
     "metadata": {},
     "output_type": "execute_result"
    }
   ],
   "source": [
    "# Q.6 Which book (original_title) has the most number of counts of tags given by the user [book_tags.csv,books.csv]  ?\n",
    "new_books = books.set_index(\"goodreads_book_id\")  \n",
    "new_books1 = books.set_index(\"book_id\")  \n",
    "new_books.loc[book_tags.groupby(\"goodreads_book_id\").agg(sum).sort_values(\"count\", ascending = False).iloc[0].name][\"original_title\"]"
   ]
  },
  {
   "cell_type": "code",
   "execution_count": 40,
   "id": "2aa30c2e",
   "metadata": {},
   "outputs": [
    {
     "data": {
      "text/plain": [
       "\"The Handmaid's Tale\""
      ]
     },
     "execution_count": 40,
     "metadata": {},
     "output_type": "execute_result"
    }
   ],
   "source": [
    "to_read=pd.read_csv(\"/Users/deep/Downloads/toread.csv\")\n",
    "# Q.7 Which book (original_title) is marked as to-read by most users [books.csv,toread.csv] ?\n",
    "new_books1.loc[to_read.groupby(\"book_id\").agg(\"count\").sort_values(\"user_id\", ascending = False).iloc[0].name][\"original_title\"]"
   ]
  },
  {
   "cell_type": "code",
   "execution_count": 45,
   "id": "aa70e419",
   "metadata": {},
   "outputs": [
    {
     "name": "stdout",
     "output_type": "stream",
     "text": [
      "27939\n"
     ]
    }
   ],
   "source": [
    "# Q.8 Which is the least used tag, i.e. mapped with the lowest number of books [book_tags.csv]   ? (In case of more than one tag, mention the tag id with the least numerical value)  \n",
    "book_tags\n",
    "dic={}\n",
    "for i in book_tags['tag_id']:\n",
    "    if i not in dic.keys():\n",
    "        dic[i]=1\n",
    "    else:\n",
    "        dic[i]=dic[i]+1\n",
    "res=1000000000000\n",
    "ans=0\n",
    "for i,j in dic.items():\n",
    "    if j<=res:\n",
    "        res=j\n",
    "        ans=i\n",
    "print(ans)\n",
    "\n",
    "        \n",
    "    "
   ]
  },
  {
   "cell_type": "code",
   "execution_count": 48,
   "id": "20d43e40",
   "metadata": {},
   "outputs": [
    {
     "data": {
      "text/plain": [
       "'Parmi les dix milliers de choses'"
      ]
     },
     "execution_count": 48,
     "metadata": {},
     "output_type": "execute_result"
    }
   ],
   "source": [
    "#Q.9 Which book (original_title) has the minimum ‘average_rating’  [books.csv] \n",
    "def func(row):\n",
    "    some = row[\"ratings_1\"]+row[\"ratings_2\"]+row[\"ratings_3\"]+row[\"ratings_4\"]+row[\"ratings_5\"]\n",
    "    other = row[\"ratings_1\"]+2*row[\"ratings_2\"]+3*row[\"ratings_3\"]+4*row[\"ratings_4\"]+5*row[\"ratings_5\"]\n",
    "    return other/some\n",
    "books[\"avg_ratings\"] = books.apply(lambda row: func(row), axis = 1)\n",
    "books.iloc[books.avg_ratings.idxmin()][\"original_title\"] "
   ]
  },
  {
   "cell_type": "code",
   "execution_count": 62,
   "id": "8a4eb2d9",
   "metadata": {},
   "outputs": [
    {
     "name": "stdout",
     "output_type": "stream",
     "text": [
      "After Anna\n"
     ]
    }
   ],
   "source": [
    "#Q.10 Which book (original_title) has the least number of count of tags given by the user  [book_tags.csv,books.csv] \n",
    "new_df = book_tags.groupby(by = \"goodreads_book_id\", as_index = False).sum()\n",
    "new_df.sort_values(by = \"count\")\n",
    "\n",
    "gid = new_df.sort_values(\"count\").iloc[0][0]\n",
    "\n",
    "ans = list(books[books[\"goodreads_book_id\"] == gid][\"original_title\"])[0]\n",
    "print(ans)"
   ]
  },
  {
   "cell_type": "code",
   "execution_count": 49,
   "id": "b49d6dcd",
   "metadata": {},
   "outputs": [
    {
     "data": {
      "text/plain": [
       "8663"
      ]
     },
     "execution_count": 49,
     "metadata": {},
     "output_type": "execute_result"
    }
   ],
   "source": [
    "#Q.11 how  many tags are there in the dataset [book_tags.csv]  ?\n",
    "len(book_tags.tag_id.unique())"
   ]
  },
  {
   "cell_type": "code",
   "execution_count": 50,
   "id": "6ff20c20",
   "metadata": {},
   "outputs": [
    {
     "data": {
      "text/plain": [
       "4.013424128513401"
      ]
     },
     "execution_count": 50,
     "metadata": {},
     "output_type": "execute_result"
    }
   ],
   "source": [
    "#Q.12 What is the average rating of all the books in the dataset based on ‘average_rating’  [books.csv]\n",
    "books.avg_ratings.mean()"
   ]
  },
  {
   "cell_type": "code",
   "execution_count": 51,
   "id": "f3564ad4",
   "metadata": {},
   "outputs": [
    {
     "data": {
      "text/plain": [
       "16"
      ]
     },
     "execution_count": 51,
     "metadata": {},
     "output_type": "execute_result"
    }
   ],
   "source": [
    "#Q.13 Find the number of books published in the year ‘2000’ based on the ‘original_publication_year’\n",
    "sum(books.original_publication_year == 2000)"
   ]
  },
  {
   "cell_type": "code",
   "execution_count": 57,
   "id": "4223026f",
   "metadata": {},
   "outputs": [
    {
     "name": "stdout",
     "output_type": "stream",
     "text": [
      "Collecting textblob\n",
      "  Downloading textblob-0.17.1-py2.py3-none-any.whl (636 kB)\n",
      "\u001b[K     |████████████████████████████████| 636 kB 6.8 MB/s eta 0:00:01\n",
      "\u001b[?25hRequirement already satisfied: nltk>=3.1 in ./opt/anaconda3/lib/python3.9/site-packages (from textblob) (3.6.5)\n",
      "Requirement already satisfied: click in ./opt/anaconda3/lib/python3.9/site-packages (from nltk>=3.1->textblob) (8.0.3)\n",
      "Requirement already satisfied: joblib in ./opt/anaconda3/lib/python3.9/site-packages (from nltk>=3.1->textblob) (1.1.0)\n",
      "Requirement already satisfied: regex>=2021.8.3 in ./opt/anaconda3/lib/python3.9/site-packages (from nltk>=3.1->textblob) (2021.8.3)\n",
      "Requirement already satisfied: tqdm in ./opt/anaconda3/lib/python3.9/site-packages (from nltk>=3.1->textblob) (4.62.3)\n",
      "Installing collected packages: textblob\n",
      "Successfully installed textblob-0.17.1\n"
     ]
    }
   ],
   "source": [
    "!pip install textblob"
   ]
  },
  {
   "cell_type": "code",
   "execution_count": 59,
   "id": "8b704a5d",
   "metadata": {},
   "outputs": [
    {
     "name": "stdout",
     "output_type": "stream",
     "text": [
      "142\n"
     ]
    }
   ],
   "source": [
    "# Q.14 \n",
    "\n",
    "from textblob import TextBlob\n",
    "def get_polarity(list):\n",
    "        return (TextBlob(list).sentiment.polarity)\n",
    "\n",
    "books[\"polarized\"] = books[\"original_title\"].dropna().apply(get_polarity)\n",
    "books[\"sentiments\"] = books.polarized.apply(lambda x: \"positive\" if x > 0 else (\"negative\" if x < 0 else \"neutral\"))\n",
    "ans = books[\"sentiments\"].value_counts()[1]\n",
    "print(ans)\n"
   ]
  },
  {
   "cell_type": "code",
   "execution_count": null,
   "id": "bdb2794e",
   "metadata": {},
   "outputs": [],
   "source": []
  }
 ],
 "metadata": {
  "kernelspec": {
   "display_name": "Python 3 (ipykernel)",
   "language": "python",
   "name": "python3"
  },
  "language_info": {
   "codemirror_mode": {
    "name": "ipython",
    "version": 3
   },
   "file_extension": ".py",
   "mimetype": "text/x-python",
   "name": "python",
   "nbconvert_exporter": "python",
   "pygments_lexer": "ipython3",
   "version": "3.9.7"
  }
 },
 "nbformat": 4,
 "nbformat_minor": 5
}
